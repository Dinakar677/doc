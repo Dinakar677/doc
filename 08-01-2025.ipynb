{
 "cells": [
  {
   "cell_type": "code",
   "execution_count": 1,
   "id": "332f9647-bde4-43e3-a2b0-0c5aae934139",
   "metadata": {},
   "outputs": [
    {
     "name": "stderr",
     "output_type": "stream",
     "text": [
      "25/01/08 14:26:41 WARN SparkSession: Using an existing Spark session; only runtime SQL configurations will take effect.\n",
      "                                                                                \r"
     ]
    },
    {
     "name": "stdout",
     "output_type": "stream",
     "text": [
      "+-----+---+\n",
      "| Name|Age|\n",
      "+-----+---+\n",
      "|Alice| 29|\n",
      "|  Bob| 35|\n",
      "|Cathy| 23|\n",
      "+-----+---+\n",
      "\n"
     ]
    }
   ],
   "source": [
    "from pyspark.sql import SparkSession\n",
    "\n",
    "# Create Spark session\n",
    "spark = SparkSession.builder.appName(\"PySpark Test\").getOrCreate()\n",
    "\n",
    "# Create a simple DataFrame\n",
    "data = [(\"Alice\", 29), (\"Bob\", 35), (\"Cathy\", 23)]\n",
    "columns = [\"Name\", \"Age\"]\n",
    "df = spark.createDataFrame(data, columns)\n",
    "\n",
    "# Show the DataFrame\n",
    "df.show()\n"
   ]
  },
  {
   "cell_type": "code",
   "execution_count": 22,
   "id": "abce286d-e0c6-40a1-ba5e-97ef5d172d9c",
   "metadata": {},
   "outputs": [
    {
     "data": {
      "text/plain": [
       "Row(_c0='Make', _c1='Model', _c2='Year', _c3='Engine Fuel Type', _c4='Engine HP', _c5='Engine Cylinders', _c6='Transmission Type', _c7='Driven_Wheels', _c8='Number of Doors', _c9='Market Category', _c10='Vehicle Size', _c11='Vehicle Style', _c12='highway MPG', _c13='city mpg', _c14='Popularity', _c15='MSRP')"
      ]
     },
     "execution_count": 22,
     "metadata": {},
     "output_type": "execute_result"
    }
   ],
   "source": [
    "df_pyspark = spark.read.csv('data.csv')\n",
    "df_pyspark.head()"
   ]
  },
  {
   "cell_type": "code",
   "execution_count": 23,
   "id": "634c1f9a-c313-4817-8af2-b44b69d2a30c",
   "metadata": {},
   "outputs": [
    {
     "data": {
      "text/plain": [
       "Row(Make='BMW', Model='1 Series M', Year=2011, Engine Fuel Type='premium unleaded (required)', Engine HP=335, Engine Cylinders=6, Transmission Type='MANUAL', Driven_Wheels='rear wheel drive', Number of Doors=2, Market Category='Factory Tuner,Luxury,High-Performance', Vehicle Size='Compact', Vehicle Style='Coupe', highway MPG=26, city mpg=19, Popularity=3916, MSRP=46135)"
      ]
     },
     "execution_count": 23,
     "metadata": {},
     "output_type": "execute_result"
    }
   ],
   "source": [
    "df_pyspark = spark.read.option('header','true').option('inferSchema','true').csv('data.csv')\n",
    "df_pyspark.head()"
   ]
  },
  {
   "cell_type": "code",
   "execution_count": 24,
   "id": "db9383a2-b4c1-403b-a620-d12377d042f4",
   "metadata": {},
   "outputs": [
    {
     "name": "stdout",
     "output_type": "stream",
     "text": [
      "+----+----------+----+--------------------+---------+----------------+-----------------+-----------------+---------------+--------------------+------------+-------------+-----------+--------+----------+-----+\n",
      "|Make|     Model|Year|    Engine Fuel Type|Engine HP|Engine Cylinders|Transmission Type|    Driven_Wheels|Number of Doors|     Market Category|Vehicle Size|Vehicle Style|highway MPG|city mpg|Popularity| MSRP|\n",
      "+----+----------+----+--------------------+---------+----------------+-----------------+-----------------+---------------+--------------------+------------+-------------+-----------+--------+----------+-----+\n",
      "| BMW|1 Series M|2011|premium unleaded ...|      335|               6|           MANUAL| rear wheel drive|              2|Factory Tuner,Lux...|     Compact|        Coupe|         26|      19|      3916|46135|\n",
      "| BMW|  1 Series|2011|premium unleaded ...|      300|               6|           MANUAL| rear wheel drive|              2|  Luxury,Performance|     Compact|  Convertible|         28|      19|      3916|40650|\n",
      "| BMW|  1 Series|2011|premium unleaded ...|      300|               6|           MANUAL| rear wheel drive|              2|Luxury,High-Perfo...|     Compact|        Coupe|         28|      20|      3916|36350|\n",
      "| BMW|  1 Series|2011|premium unleaded ...|      230|               6|           MANUAL| rear wheel drive|              2|  Luxury,Performance|     Compact|        Coupe|         28|      18|      3916|29450|\n",
      "| BMW|  1 Series|2011|premium unleaded ...|      230|               6|           MANUAL| rear wheel drive|              2|              Luxury|     Compact|  Convertible|         28|      18|      3916|34500|\n",
      "| BMW|  1 Series|2012|premium unleaded ...|      230|               6|           MANUAL| rear wheel drive|              2|  Luxury,Performance|     Compact|        Coupe|         28|      18|      3916|31200|\n",
      "| BMW|  1 Series|2012|premium unleaded ...|      300|               6|           MANUAL| rear wheel drive|              2|  Luxury,Performance|     Compact|  Convertible|         26|      17|      3916|44100|\n",
      "| BMW|  1 Series|2012|premium unleaded ...|      300|               6|           MANUAL| rear wheel drive|              2|Luxury,High-Perfo...|     Compact|        Coupe|         28|      20|      3916|39300|\n",
      "| BMW|  1 Series|2012|premium unleaded ...|      230|               6|           MANUAL| rear wheel drive|              2|              Luxury|     Compact|  Convertible|         28|      18|      3916|36900|\n",
      "| BMW|  1 Series|2013|premium unleaded ...|      230|               6|           MANUAL| rear wheel drive|              2|              Luxury|     Compact|  Convertible|         27|      18|      3916|37200|\n",
      "| BMW|  1 Series|2013|premium unleaded ...|      300|               6|           MANUAL| rear wheel drive|              2|Luxury,High-Perfo...|     Compact|        Coupe|         28|      20|      3916|39600|\n",
      "| BMW|  1 Series|2013|premium unleaded ...|      230|               6|           MANUAL| rear wheel drive|              2|  Luxury,Performance|     Compact|        Coupe|         28|      19|      3916|31500|\n",
      "| BMW|  1 Series|2013|premium unleaded ...|      300|               6|           MANUAL| rear wheel drive|              2|  Luxury,Performance|     Compact|  Convertible|         28|      19|      3916|44400|\n",
      "| BMW|  1 Series|2013|premium unleaded ...|      230|               6|           MANUAL| rear wheel drive|              2|              Luxury|     Compact|  Convertible|         28|      19|      3916|37200|\n",
      "| BMW|  1 Series|2013|premium unleaded ...|      230|               6|           MANUAL| rear wheel drive|              2|  Luxury,Performance|     Compact|        Coupe|         28|      19|      3916|31500|\n",
      "| BMW|  1 Series|2013|premium unleaded ...|      320|               6|           MANUAL| rear wheel drive|              2|Luxury,High-Perfo...|     Compact|  Convertible|         25|      18|      3916|48250|\n",
      "| BMW|  1 Series|2013|premium unleaded ...|      320|               6|           MANUAL| rear wheel drive|              2|Luxury,High-Perfo...|     Compact|        Coupe|         28|      20|      3916|43550|\n",
      "|Audi|       100|1992|    regular unleaded|      172|               6|           MANUAL|front wheel drive|              4|              Luxury|     Midsize|        Sedan|         24|      17|      3105| 2000|\n",
      "|Audi|       100|1992|    regular unleaded|      172|               6|           MANUAL|front wheel drive|              4|              Luxury|     Midsize|        Sedan|         24|      17|      3105| 2000|\n",
      "|Audi|       100|1992|    regular unleaded|      172|               6|        AUTOMATIC|  all wheel drive|              4|              Luxury|     Midsize|        Wagon|         20|      16|      3105| 2000|\n",
      "+----+----------+----+--------------------+---------+----------------+-----------------+-----------------+---------------+--------------------+------------+-------------+-----------+--------+----------+-----+\n",
      "only showing top 20 rows\n",
      "\n"
     ]
    }
   ],
   "source": [
    "df_pyspark.show()"
   ]
  },
  {
   "cell_type": "code",
   "execution_count": 37,
   "id": "6e94ba77-f295-4277-bc8c-37551660fefb",
   "metadata": {},
   "outputs": [
    {
     "name": "stdout",
     "output_type": "stream",
     "text": [
      "root\n",
      " |-- Make: string (nullable = true)\n",
      " |-- Model: string (nullable = true)\n",
      " |-- Year: integer (nullable = true)\n",
      " |-- Engine Fuel Type: string (nullable = true)\n",
      " |-- Engine HP: integer (nullable = true)\n",
      " |-- Engine Cylinders: integer (nullable = true)\n",
      " |-- Transmission Type: string (nullable = true)\n",
      " |-- Driven_Wheels: string (nullable = true)\n",
      " |-- Number of Doors: integer (nullable = true)\n",
      " |-- Market Category: string (nullable = true)\n",
      " |-- Vehicle Size: string (nullable = true)\n",
      " |-- Vehicle Style: string (nullable = true)\n",
      " |-- highway MPG: integer (nullable = true)\n",
      " |-- city mpg: integer (nullable = true)\n",
      " |-- Popularity: integer (nullable = true)\n",
      " |-- MSRP: integer (nullable = true)\n",
      "\n"
     ]
    }
   ],
   "source": [
    "df_pyspark.printSchema()"
   ]
  },
  {
   "cell_type": "code",
   "execution_count": 26,
   "id": "f523ce76-ecaa-45dc-9319-e98a7ce9a287",
   "metadata": {},
   "outputs": [
    {
     "data": {
      "text/html": [
       "\n",
       "            <div>\n",
       "                <p><b>SparkSession - hive</b></p>\n",
       "                \n",
       "        <div>\n",
       "            <p><b>SparkContext</b></p>\n",
       "\n",
       "            <p><a href=\"http://10.50.12.56:4040\">Spark UI</a></p>\n",
       "\n",
       "            <dl>\n",
       "              <dt>Version</dt>\n",
       "                <dd><code>v3.5.4</code></dd>\n",
       "              <dt>Master</dt>\n",
       "                <dd><code>local[*]</code></dd>\n",
       "              <dt>AppName</dt>\n",
       "                <dd><code>PySparkShell</code></dd>\n",
       "            </dl>\n",
       "        </div>\n",
       "        \n",
       "            </div>\n",
       "        "
      ],
      "text/plain": [
       "<pyspark.sql.session.SparkSession at 0x75f5d02bdc90>"
      ]
     },
     "execution_count": 26,
     "metadata": {},
     "output_type": "execute_result"
    }
   ],
   "source": [
    "spark"
   ]
  },
  {
   "cell_type": "code",
   "execution_count": 35,
   "id": "b12b16f9-c2c3-42d2-a014-ce8e79aee8c2",
   "metadata": {},
   "outputs": [
    {
     "name": "stdout",
     "output_type": "stream",
     "text": [
      "+----+----------+----+--------------------+---------+----------------+-----------------+-----------------+---------------+--------------------+------------+-------------+-----------+--------+----------+-----+\n",
      "|Make|     Model|Year|    Engine Fuel Type|Engine HP|Engine Cylinders|Transmission Type|    Driven_Wheels|Number of Doors|     Market Category|Vehicle Size|Vehicle Style|highway MPG|city mpg|Popularity| MSRP|\n",
      "+----+----------+----+--------------------+---------+----------------+-----------------+-----------------+---------------+--------------------+------------+-------------+-----------+--------+----------+-----+\n",
      "| BMW|1 Series M|2011|premium unleaded ...|      335|               6|           MANUAL| rear wheel drive|              2|Factory Tuner,Lux...|     Compact|        Coupe|         26|      19|      3916|46135|\n",
      "| BMW|  1 Series|2011|premium unleaded ...|      300|               6|           MANUAL| rear wheel drive|              2|  Luxury,Performance|     Compact|  Convertible|         28|      19|      3916|40650|\n",
      "| BMW|  1 Series|2011|premium unleaded ...|      300|               6|           MANUAL| rear wheel drive|              2|Luxury,High-Perfo...|     Compact|        Coupe|         28|      20|      3916|36350|\n",
      "| BMW|  1 Series|2011|premium unleaded ...|      230|               6|           MANUAL| rear wheel drive|              2|  Luxury,Performance|     Compact|        Coupe|         28|      18|      3916|29450|\n",
      "| BMW|  1 Series|2011|premium unleaded ...|      230|               6|           MANUAL| rear wheel drive|              2|              Luxury|     Compact|  Convertible|         28|      18|      3916|34500|\n",
      "| BMW|  1 Series|2012|premium unleaded ...|      230|               6|           MANUAL| rear wheel drive|              2|  Luxury,Performance|     Compact|        Coupe|         28|      18|      3916|31200|\n",
      "| BMW|  1 Series|2012|premium unleaded ...|      300|               6|           MANUAL| rear wheel drive|              2|  Luxury,Performance|     Compact|  Convertible|         26|      17|      3916|44100|\n",
      "| BMW|  1 Series|2012|premium unleaded ...|      300|               6|           MANUAL| rear wheel drive|              2|Luxury,High-Perfo...|     Compact|        Coupe|         28|      20|      3916|39300|\n",
      "| BMW|  1 Series|2012|premium unleaded ...|      230|               6|           MANUAL| rear wheel drive|              2|              Luxury|     Compact|  Convertible|         28|      18|      3916|36900|\n",
      "| BMW|  1 Series|2013|premium unleaded ...|      230|               6|           MANUAL| rear wheel drive|              2|              Luxury|     Compact|  Convertible|         27|      18|      3916|37200|\n",
      "| BMW|  1 Series|2013|premium unleaded ...|      300|               6|           MANUAL| rear wheel drive|              2|Luxury,High-Perfo...|     Compact|        Coupe|         28|      20|      3916|39600|\n",
      "| BMW|  1 Series|2013|premium unleaded ...|      230|               6|           MANUAL| rear wheel drive|              2|  Luxury,Performance|     Compact|        Coupe|         28|      19|      3916|31500|\n",
      "| BMW|  1 Series|2013|premium unleaded ...|      300|               6|           MANUAL| rear wheel drive|              2|  Luxury,Performance|     Compact|  Convertible|         28|      19|      3916|44400|\n",
      "| BMW|  1 Series|2013|premium unleaded ...|      230|               6|           MANUAL| rear wheel drive|              2|              Luxury|     Compact|  Convertible|         28|      19|      3916|37200|\n",
      "| BMW|  1 Series|2013|premium unleaded ...|      230|               6|           MANUAL| rear wheel drive|              2|  Luxury,Performance|     Compact|        Coupe|         28|      19|      3916|31500|\n",
      "| BMW|  1 Series|2013|premium unleaded ...|      320|               6|           MANUAL| rear wheel drive|              2|Luxury,High-Perfo...|     Compact|  Convertible|         25|      18|      3916|48250|\n",
      "| BMW|  1 Series|2013|premium unleaded ...|      320|               6|           MANUAL| rear wheel drive|              2|Luxury,High-Perfo...|     Compact|        Coupe|         28|      20|      3916|43550|\n",
      "|Audi|       100|1992|    regular unleaded|      172|               6|           MANUAL|front wheel drive|              4|              Luxury|     Midsize|        Sedan|         24|      17|      3105| 2000|\n",
      "|Audi|       100|1992|    regular unleaded|      172|               6|           MANUAL|front wheel drive|              4|              Luxury|     Midsize|        Sedan|         24|      17|      3105| 2000|\n",
      "|Audi|       100|1992|    regular unleaded|      172|               6|        AUTOMATIC|  all wheel drive|              4|              Luxury|     Midsize|        Wagon|         20|      16|      3105| 2000|\n",
      "+----+----------+----+--------------------+---------+----------------+-----------------+-----------------+---------------+--------------------+------------+-------------+-----------+--------+----------+-----+\n",
      "only showing top 20 rows\n",
      "\n"
     ]
    }
   ],
   "source": [
    "df_pyspark = spark.read.csv('data.csv',header=True,inferSchema=True)\n",
    "df_pyspark.show()"
   ]
  },
  {
   "cell_type": "code",
   "execution_count": 28,
   "id": "35e7cbc9-93a9-4667-b27b-fe754132e920",
   "metadata": {},
   "outputs": [
    {
     "data": {
      "text/plain": [
       "pyspark.sql.dataframe.DataFrame"
      ]
     },
     "execution_count": 28,
     "metadata": {},
     "output_type": "execute_result"
    }
   ],
   "source": [
    "type(df_pyspark)"
   ]
  },
  {
   "cell_type": "code",
   "execution_count": 29,
   "id": "81e5d7b8-e8e8-4c7e-b74e-4422741852ad",
   "metadata": {},
   "outputs": [
    {
     "name": "stdout",
     "output_type": "stream",
     "text": [
      "+----+\n",
      "|make|\n",
      "+----+\n",
      "| BMW|\n",
      "| BMW|\n",
      "| BMW|\n",
      "| BMW|\n",
      "| BMW|\n",
      "| BMW|\n",
      "| BMW|\n",
      "| BMW|\n",
      "| BMW|\n",
      "| BMW|\n",
      "| BMW|\n",
      "| BMW|\n",
      "| BMW|\n",
      "| BMW|\n",
      "| BMW|\n",
      "| BMW|\n",
      "| BMW|\n",
      "|Audi|\n",
      "|Audi|\n",
      "|Audi|\n",
      "+----+\n",
      "only showing top 20 rows\n",
      "\n"
     ]
    }
   ],
   "source": [
    "df_pyspark.select('make').show()"
   ]
  },
  {
   "cell_type": "code",
   "execution_count": 41,
   "id": "4d25d9fe-08d9-4f82-89b3-eba0a471f596",
   "metadata": {},
   "outputs": [
    {
     "name": "stdout",
     "output_type": "stream",
     "text": [
      "+-------+-----+------------------+------------------+----------------+------------------+-----------------+-----------------+----------------+------------------+------------------+------------+-------------+------------------+-----------------+------------------+------------------+\n",
      "|summary| Make|             Model|              Year|Engine Fuel Type|         Engine HP| Engine Cylinders|Transmission Type|   Driven_Wheels|   Number of Doors|   Market Category|Vehicle Size|Vehicle Style|       highway MPG|         city mpg|        Popularity|              MSRP|\n",
      "+-------+-----+------------------+------------------+----------------+------------------+-----------------+-----------------+----------------+------------------+------------------+------------+-------------+------------------+-----------------+------------------+------------------+\n",
      "|  count|11914|             11914|             11914|           11911|             11845|            11884|            11914|           11914|             11908|             11914|       11914|        11914|             11914|            11914|             11914|             11914|\n",
      "|   mean| NULL| 745.5822222222222| 2010.384337753903|            NULL|249.38607007176023|5.628828677213059|             NULL|            NULL|3.4360933825999327|              NULL|        NULL|         NULL|26.637485311398354|19.73325499412456|1554.9111969111968|40594.737032063116|\n",
      "| stddev| NULL|1490.8280590623795|7.5797398875957995|            NULL|109.19187025917194| 1.78055934824622|             NULL|            NULL|0.8813153865835529|              NULL|        NULL|         NULL| 8.863000766979422|8.987798160299237|1441.8553466274648| 60109.10360365422|\n",
      "|    min|Acura|          1 Series|              1990|          diesel|                55|                0| AUTOMATED_MANUAL| all wheel drive|                 2|         Crossover|     Compact|2dr Hatchback|                12|                7|                 2|              2000|\n",
      "|    max|Volvo|                xD|              2017|regular unleaded|              1001|               16|          UNKNOWN|rear wheel drive|                 4|Performance,Hybrid|     Midsize|        Wagon|               354|              137|              5657|           2065902|\n",
      "+-------+-----+------------------+------------------+----------------+------------------+-----------------+-----------------+----------------+------------------+------------------+------------+-------------+------------------+-----------------+------------------+------------------+\n",
      "\n"
     ]
    }
   ],
   "source": [
    "df_pyspark.describe().show()"
   ]
  },
  {
   "cell_type": "code",
   "execution_count": 38,
   "id": "3198462c-dd25-4c23-80fa-a69f352539bf",
   "metadata": {},
   "outputs": [
    {
     "data": {
      "text/plain": [
       "DataFrame[summary: string, Make: string, Model: string, Year: string, Engine Fuel Type: string, Engine HP: string, Engine Cylinders: string, Transmission Type: string, Driven_Wheels: string, Number of Doors: string, Market Category: string, Vehicle Size: string, Vehicle Style: string, highway MPG: string, city mpg: string, Popularity: string, MSRP: string]"
      ]
     },
     "execution_count": 38,
     "metadata": {},
     "output_type": "execute_result"
    }
   ],
   "source": [
    "df_pyspark.describe()"
   ]
  },
  {
   "cell_type": "code",
   "execution_count": 39,
   "id": "1207a0a7-f224-4222-bb00-1515ccc0b894",
   "metadata": {},
   "outputs": [
    {
     "data": {
      "text/plain": [
       "[('Make', 'string'),\n",
       " ('Model', 'string'),\n",
       " ('Year', 'int'),\n",
       " ('Engine Fuel Type', 'string'),\n",
       " ('Engine HP', 'int'),\n",
       " ('Engine Cylinders', 'int'),\n",
       " ('Transmission Type', 'string'),\n",
       " ('Driven_Wheels', 'string'),\n",
       " ('Number of Doors', 'int'),\n",
       " ('Market Category', 'string'),\n",
       " ('Vehicle Size', 'string'),\n",
       " ('Vehicle Style', 'string'),\n",
       " ('highway MPG', 'int'),\n",
       " ('city mpg', 'int'),\n",
       " ('Popularity', 'int'),\n",
       " ('MSRP', 'int')]"
      ]
     },
     "execution_count": 39,
     "metadata": {},
     "output_type": "execute_result"
    }
   ],
   "source": [
    "df_pyspark.dtypes"
   ]
  },
  {
   "cell_type": "code",
   "execution_count": 55,
   "id": "d0b55996-9500-47f8-9d5f-9f6c9b831e41",
   "metadata": {
    "scrolled": true
   },
   "outputs": [],
   "source": [
    "from pyspark.sql.functions import *\n",
    "df_t=df_pyspark.withColumn('OG_Transmission',when(col('Transmission Type') == 'MANUAL','Y').when(col('Transmission Type') == 'AUTOMATIC','N'))"
   ]
  },
  {
   "cell_type": "code",
   "execution_count": 56,
   "id": "998438d4-fe56-4cc4-b1f5-9492e2fac333",
   "metadata": {},
   "outputs": [
    {
     "data": {
      "text/plain": [
       "Row(Make='BMW', Model='1 Series M', Year=2011, Engine Fuel Type='premium unleaded (required)', Engine HP=335, Engine Cylinders=6, Transmission Type='MANUAL', Driven_Wheels='rear wheel drive', Number of Doors=2, Market Category='Factory Tuner,Luxury,High-Performance', Vehicle Size='Compact', Vehicle Style='Coupe', highway MPG=26, city mpg=19, Popularity=3916, MSRP=46135, OG_Transmission='Y')"
      ]
     },
     "execution_count": 56,
     "metadata": {},
     "output_type": "execute_result"
    }
   ],
   "source": [
    "df_t.head()"
   ]
  },
  {
   "cell_type": "code",
   "execution_count": 60,
   "id": "da3706ef-f1ce-4843-beae-6c73511b6e76",
   "metadata": {},
   "outputs": [
    {
     "data": {
      "text/plain": [
       "DataFrame[Make: string, Model: string, Year: int, Engine Fuel Type: string, Engine HP: int, Engine Cylinders: int, Transmission Type: string, Driven_Wheels: string, Number of Doors: int, Market Category: string, Vehicle Size: string, Vehicle Style: string, highway MPG: int, city mpg: int, Popularity: int, MSRP: int]"
      ]
     },
     "execution_count": 60,
     "metadata": {},
     "output_type": "execute_result"
    }
   ],
   "source": [
    "df_t.drop('OG_Transmission')"
   ]
  },
  {
   "cell_type": "code",
   "execution_count": 61,
   "id": "bce9bd47-9eab-4edc-a276-e8e1892feaa9",
   "metadata": {},
   "outputs": [
    {
     "data": {
      "text/plain": [
       "Row(Make='BMW', Model='1 Series M', Year=2011, Engine Fuel Type='premium unleaded (required)', Engine HP=335, Engine Cylinders=6, Transmission Type='MANUAL', Driven_Wheels='rear wheel drive', Number of Doors=2, Market Category='Factory Tuner,Luxury,High-Performance', Vehicle Size='Compact', Vehicle Style='Coupe', highway MPG=26, city mpg=19, Popularity=3916, MSRP=46135, OG_Transmission='Y')"
      ]
     },
     "execution_count": 61,
     "metadata": {},
     "output_type": "execute_result"
    }
   ],
   "source": [
    "df_t.head()"
   ]
  },
  {
   "cell_type": "code",
   "execution_count": 62,
   "id": "a1876e91-4d5b-49dc-af7a-6ec1feec29d4",
   "metadata": {},
   "outputs": [
    {
     "data": {
      "text/plain": [
       "Row(Make='BMW', Model='1 Series M', Year=2011, Engine Fuel Type='premium unleaded (required)', Engine HP=335, Engine Cylinders=6, Transmission Type='MANUAL', Driven_Wheels='rear wheel drive', Number of Doors=2, Market Category='Factory Tuner,Luxury,High-Performance', Vehicle Size='Compact', Vehicle Style='Coupe', highway MPG=26, city mpg=19, Popularity=3916, MSRP=46135, OG Transmission='Y')"
      ]
     },
     "execution_count": 62,
     "metadata": {},
     "output_type": "execute_result"
    }
   ],
   "source": [
    "df_t3=df_t.withColumnRenamed('OG_Transmission','OG Transmission')\n",
    "df_t3.head()"
   ]
  },
  {
   "cell_type": "code",
   "execution_count": null,
   "id": "320c2216-f17c-4fd0-8f1c-48e54df71aee",
   "metadata": {},
   "outputs": [],
   "source": []
  }
 ],
 "metadata": {
  "kernelspec": {
   "display_name": "Python 3 (ipykernel)",
   "language": "python",
   "name": "python3"
  },
  "language_info": {
   "codemirror_mode": {
    "name": "ipython",
    "version": 3
   },
   "file_extension": ".py",
   "mimetype": "text/x-python",
   "name": "python",
   "nbconvert_exporter": "python",
   "pygments_lexer": "ipython3",
   "version": "3.10.12"
  }
 },
 "nbformat": 4,
 "nbformat_minor": 5
}
